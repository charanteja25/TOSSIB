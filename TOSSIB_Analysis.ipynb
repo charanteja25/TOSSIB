{
 "cells": [
  {
   "cell_type": "code",
   "execution_count": 1,
   "id": "b7aaf15a",
   "metadata": {},
   "outputs": [],
   "source": [
    "import numpy as np\n",
    "import pandas as pd \n",
    "import matplotlib.pyplot as plt\n",
    "import seaborn as sns\n",
    "from scipy.stats import chi2_contingency\n",
    "from itertools import product\n",
    "import scipy.stats as ss\n",
    "from dython.nominal import associations"
   ]
  },
  {
   "cell_type": "code",
   "execution_count": 2,
   "id": "eaaa7991",
   "metadata": {},
   "outputs": [],
   "source": [
    "df = pd.read_excel(\"Book3.xlsx\") \n",
    "# importing first page as for the first question"
   ]
  },
  {
   "cell_type": "code",
   "execution_count": null,
   "id": "4e379233",
   "metadata": {},
   "outputs": [],
   "source": []
  }
 ],
 "metadata": {
  "kernelspec": {
   "display_name": "Python 3 (ipykernel)",
   "language": "python",
   "name": "python3"
  },
  "language_info": {
   "codemirror_mode": {
    "name": "ipython",
    "version": 3
   },
   "file_extension": ".py",
   "mimetype": "text/x-python",
   "name": "python",
   "nbconvert_exporter": "python",
   "pygments_lexer": "ipython3",
   "version": "3.9.12"
  }
 },
 "nbformat": 4,
 "nbformat_minor": 5
}
